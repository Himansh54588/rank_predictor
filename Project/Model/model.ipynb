{
 "cells": [
  {
   "cell_type": "code",
   "execution_count": 4,
   "id": "7a33955a",
   "metadata": {},
   "outputs": [],
   "source": [
    "import numpy as np\n",
    "import pandas as pd\n",
    "import matplotlib.pyplot as plt"
   ]
  },
  {
   "cell_type": "code",
   "execution_count": 5,
   "id": "a4b64454",
   "metadata": {},
   "outputs": [
    {
     "data": {
      "text/html": [
       "<div>\n",
       "<style scoped>\n",
       "    .dataframe tbody tr th:only-of-type {\n",
       "        vertical-align: middle;\n",
       "    }\n",
       "\n",
       "    .dataframe tbody tr th {\n",
       "        vertical-align: top;\n",
       "    }\n",
       "\n",
       "    .dataframe thead th {\n",
       "        text-align: right;\n",
       "    }\n",
       "</style>\n",
       "<table border=\"1\" class=\"dataframe\">\n",
       "  <thead>\n",
       "    <tr style=\"text-align: right;\">\n",
       "      <th></th>\n",
       "      <th>RANK</th>\n",
       "      <th>MARKS</th>\n",
       "      <th>Category</th>\n",
       "    </tr>\n",
       "  </thead>\n",
       "  <tbody>\n",
       "    <tr>\n",
       "      <th>0</th>\n",
       "      <td>1</td>\n",
       "      <td>346</td>\n",
       "      <td>General</td>\n",
       "    </tr>\n",
       "    <tr>\n",
       "      <th>1</th>\n",
       "      <td>101</td>\n",
       "      <td>270</td>\n",
       "      <td>General</td>\n",
       "    </tr>\n",
       "    <tr>\n",
       "      <th>2</th>\n",
       "      <td>201</td>\n",
       "      <td>253</td>\n",
       "      <td>General</td>\n",
       "    </tr>\n",
       "    <tr>\n",
       "      <th>3</th>\n",
       "      <td>301</td>\n",
       "      <td>243</td>\n",
       "      <td>General</td>\n",
       "    </tr>\n",
       "    <tr>\n",
       "      <th>4</th>\n",
       "      <td>401</td>\n",
       "      <td>234</td>\n",
       "      <td>General</td>\n",
       "    </tr>\n",
       "    <tr>\n",
       "      <th>...</th>\n",
       "      <td>...</td>\n",
       "      <td>...</td>\n",
       "      <td>...</td>\n",
       "    </tr>\n",
       "    <tr>\n",
       "      <th>410</th>\n",
       "      <td>801</td>\n",
       "      <td>58</td>\n",
       "      <td>St</td>\n",
       "    </tr>\n",
       "    <tr>\n",
       "      <th>411</th>\n",
       "      <td>901</td>\n",
       "      <td>54</td>\n",
       "      <td>St</td>\n",
       "    </tr>\n",
       "    <tr>\n",
       "      <th>412</th>\n",
       "      <td>1001</td>\n",
       "      <td>51</td>\n",
       "      <td>St</td>\n",
       "    </tr>\n",
       "    <tr>\n",
       "      <th>413</th>\n",
       "      <td>1101</td>\n",
       "      <td>48</td>\n",
       "      <td>St</td>\n",
       "    </tr>\n",
       "    <tr>\n",
       "      <th>414</th>\n",
       "      <td>1201</td>\n",
       "      <td>46</td>\n",
       "      <td>St</td>\n",
       "    </tr>\n",
       "  </tbody>\n",
       "</table>\n",
       "<p>415 rows × 3 columns</p>\n",
       "</div>"
      ],
      "text/plain": [
       "     RANK  MARKS Category\n",
       "0       1    346  General\n",
       "1     101    270  General\n",
       "2     201    253  General\n",
       "3     301    243  General\n",
       "4     401    234  General\n",
       "..    ...    ...      ...\n",
       "410   801     58       St\n",
       "411   901     54       St\n",
       "412  1001     51       St\n",
       "413  1101     48       St\n",
       "414  1201     46       St\n",
       "\n",
       "[415 rows x 3 columns]"
      ]
     },
     "execution_count": 5,
     "metadata": {},
     "output_type": "execute_result"
    }
   ],
   "source": [
    "data=pd.read_csv(\"rankdata.csv\")\n",
    "data"
   ]
  },
  {
   "cell_type": "code",
   "execution_count": 6,
   "id": "13ef7f2f",
   "metadata": {},
   "outputs": [],
   "source": [
    "gen=data[data[\"Category\"]==\"General\"]\n",
    "ews=data[data[\"Category\"]==\"Ews\"]\n",
    "obc=data[data[\"Category\"]==\"Obc\"]\n",
    "sc=data[data[\"Category\"]==\"Sc\"]\n",
    "st=data[data[\"Category\"]==\"St\"]"
   ]
  },
  {
   "cell_type": "code",
   "execution_count": 7,
   "id": "4409d612",
   "metadata": {},
   "outputs": [],
   "source": [
    "Xgen = gen.drop(['RANK','Category'], axis='columns')\n",
    "Ygen=gen[\"RANK\"]\n",
    "Xews=ews.drop(['RANK','Category'], axis='columns')\n",
    "Yews=ews[\"RANK\"]\n",
    "Xobc=obc.drop(['RANK','Category'], axis='columns')\n",
    "Yobc=obc[\"RANK\"]\n",
    "Xsc=sc.drop(['RANK','Category'], axis='columns')\n",
    "Ysc=sc[\"RANK\"]\n",
    "Xst=st.drop(['RANK','Category'], axis='columns')\n",
    "Yst=st[\"RANK\"]\n"
   ]
  },
  {
   "cell_type": "code",
   "execution_count": 8,
   "id": "9c114609",
   "metadata": {},
   "outputs": [
    {
     "data": {
      "text/plain": [
       "LinearRegression()"
      ]
     },
     "execution_count": 8,
     "metadata": {},
     "output_type": "execute_result"
    }
   ],
   "source": [
    "from sklearn.preprocessing import PolynomialFeatures\n",
    "from sklearn.linear_model import LinearRegression\n",
    "poly_reg_gen = PolynomialFeatures(degree = 4)\n",
    "X_poly_gen = poly_reg_gen.fit_transform(Xgen)\n",
    "model_gen = LinearRegression()\n",
    "model_gen.fit(X_poly_gen, Ygen)"
   ]
  },
  {
   "cell_type": "code",
   "execution_count": 9,
   "id": "f7b77558",
   "metadata": {},
   "outputs": [
    {
     "data": {
      "text/plain": [
       "LinearRegression()"
      ]
     },
     "execution_count": 9,
     "metadata": {},
     "output_type": "execute_result"
    }
   ],
   "source": [
    "from sklearn.preprocessing import PolynomialFeatures\n",
    "poly_reg_ews = PolynomialFeatures(degree = 4)\n",
    "X_poly_ews = poly_reg_gen.fit_transform(Xews)\n",
    "model_ews = LinearRegression()\n",
    "model_ews.fit(X_poly_ews, Yews)"
   ]
  },
  {
   "cell_type": "code",
   "execution_count": 10,
   "id": "c75513d6",
   "metadata": {},
   "outputs": [
    {
     "data": {
      "text/plain": [
       "LinearRegression()"
      ]
     },
     "execution_count": 10,
     "metadata": {},
     "output_type": "execute_result"
    }
   ],
   "source": [
    "from sklearn.preprocessing import PolynomialFeatures\n",
    "poly_reg_obc = PolynomialFeatures(degree = 4)\n",
    "X_poly_obc = poly_reg_obc.fit_transform(Xobc)\n",
    "model_obc = LinearRegression()\n",
    "model_obc.fit(X_poly_obc, Yobc)"
   ]
  },
  {
   "cell_type": "code",
   "execution_count": 11,
   "id": "dc599430",
   "metadata": {},
   "outputs": [
    {
     "data": {
      "text/plain": [
       "LinearRegression()"
      ]
     },
     "execution_count": 11,
     "metadata": {},
     "output_type": "execute_result"
    }
   ],
   "source": [
    "from sklearn.preprocessing import PolynomialFeatures\n",
    "poly_reg_sc = PolynomialFeatures(degree = 4)\n",
    "X_poly_sc = poly_reg_sc.fit_transform(Xsc)\n",
    "model_sc = LinearRegression()\n",
    "model_sc.fit(X_poly_sc, Ysc)"
   ]
  },
  {
   "cell_type": "code",
   "execution_count": 12,
   "id": "186ca851",
   "metadata": {},
   "outputs": [
    {
     "data": {
      "text/plain": [
       "LinearRegression()"
      ]
     },
     "execution_count": 12,
     "metadata": {},
     "output_type": "execute_result"
    }
   ],
   "source": [
    "from sklearn.preprocessing import PolynomialFeatures\n",
    "poly_reg_st = PolynomialFeatures(degree = 4)\n",
    "X_poly_st = poly_reg_st.fit_transform(Xst)\n",
    "model_st = LinearRegression()\n",
    "model_st.fit(X_poly_st, Yst)"
   ]
  },
  {
   "cell_type": "code",
   "execution_count": 36,
   "id": "8dbc4aa9",
   "metadata": {},
   "outputs": [
    {
     "data": {
      "text/plain": [
       "array([2753.56793744])"
      ]
     },
     "execution_count": 36,
     "metadata": {},
     "output_type": "execute_result"
    }
   ],
   "source": [
    "with open('obc.pickle','rb') as file:\n",
    "    mp = pickle.load(file)\n",
    "mp.predict(poly_reg_obc.fit_transform([[120]]))\n"
   ]
  },
  {
   "cell_type": "code",
   "execution_count": null,
   "id": "e24e8d38",
   "metadata": {},
   "outputs": [],
   "source": []
  }
 ],
 "metadata": {
  "kernelspec": {
   "display_name": "Python 3",
   "language": "python",
   "name": "python3"
  },
  "language_info": {
   "codemirror_mode": {
    "name": "ipython",
    "version": 3
   },
   "file_extension": ".py",
   "mimetype": "text/x-python",
   "name": "python",
   "nbconvert_exporter": "python",
   "pygments_lexer": "ipython3",
   "version": "3.8.8"
  }
 },
 "nbformat": 4,
 "nbformat_minor": 5
}
